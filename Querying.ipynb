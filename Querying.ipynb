{
 "cells": [
  {
   "cell_type": "markdown",
   "metadata": {},
   "source": [
    "<a href= \"https://www.tutorialspoint.com/db2/db2_introduction.htm\"><img src = \"https://www.logolynx.com/images/logolynx/d6/d62afc1ca321ac4366aba9a2abb32a07.jpeg\" width = 250, align= \"center\"></a>\n",
    "\n",
    "<h1 align = center><font size = 5>Lab: Access DB2 on Cloud using Python</font></h1>"
   ]
  },
  {
   "cell_type": "markdown",
   "metadata": {},
   "source": [
    "# INTRODUCTION\n",
    "\n",
    "This notebook illustrates how to access your database instance using Python by following the steps below:\n",
    "\n",
    "1. Import the `ibm_db` library\n",
    "1. Identify and enter the database connection credentials\n",
    "1. Create the database connection\n",
    "1. Create a table\n",
    "1. Insert data into the table\n",
    "1. Query data from the table\n",
    "1. Retrieve the result set into a pandas dataframe\n",
    "1. Close the database connection\n",
    "\n",
    "**NOTE:** To Create a database service instance of Db2 on Cloud [Click Here](https://cloud.ibm.com/docs/Db2onCloud?topic=Db2onCloud-getting-started)"
   ]
  },
  {
   "cell_type": "markdown",
   "metadata": {},
   "source": [
    "## Step 1: Import the `ibm_db` Python library"
   ]
  },
  {
   "cell_type": "code",
   "execution_count": 2,
   "metadata": {},
   "outputs": [],
   "source": [
    "#Load ibm_db library\n",
    "\n",
    "import ibm_db"
   ]
  },
  {
   "cell_type": "markdown",
   "metadata": {},
   "source": [
    "When the command above completes, the `ibm_db` library is loaded in your notebook.\n",
    "\n",
    "## Step 2: Identify the database connection credentials\n",
    "\n",
    "Connecting to dashDB or DB2 database requires the following information:\n",
    "* Driver Name\n",
    "* Database name \n",
    "* Host DNS name or IP address \n",
    "* Host port\n",
    "* Connection protocol\n",
    "* User ID\n",
    "* User Password\n",
    "\n",
    "\n",
    "\n",
    "**NOTE:** To obtain credentials please refer to the instructions given [here](https://cloud.ibm.com/docs/Db2onCloud?topic=Db2onCloud-db_details_cxn_creds)\n",
    "\n",
    "Now enter your database credentials below\n",
    "\n",
    "Replace the placeholder values in between `\"\"` below with your actual database credentials \n",
    "\n",
    "e.g. replace \"database\" with \"BLUDB\""
   ]
  },
  {
   "cell_type": "code",
   "execution_count": null,
   "metadata": {},
   "outputs": [],
   "source": [
    "#Replace the placeholder values with the actuals for your Db2 Service Credentials\n",
    "\n",
    "dsn_driver = \"{IBM DB2 ODBC DRIVER}\"\n",
    "dsn_database = \"database\"            # e.g. \"BLUDB\"\n",
    "dsn_hostname = \"hostanme\"            # e.g.: \"dashdb-txn-sbox-yp-dal09-04.services.dal.bluemix.net\"\n",
    "dsn_port = \"port\"                    # e.g. \"50000\" \n",
    "dsn_protocol = \"protocol\"            # i.e. \"TCPIP\"\n",
    "dsn_uid = \"user id\"                  # e.g. \"abc12345\"\n",
    "dsn_pwd = \"password\"                 # e.g. \"7dBZ3wWt9XN6$o0J\""
   ]
  },
  {
   "cell_type": "markdown",
   "metadata": {},
   "source": [
    "## Step 3: Create the database connection\n",
    "\n",
    "Ibm_db API uses the IBM Data Server Driver for ODBC and CLI APIs to connect to IBM DB2 and Informix.\n",
    "\n",
    "\n",
    "Create the database connection"
   ]
  },
  {
   "cell_type": "code",
   "execution_count": null,
   "metadata": {},
   "outputs": [],
   "source": [
    "#Create database connection\n",
    "\n",
    "dsn = (\n",
    "    \"DRIVER={0};\"\n",
    "    \"DATABASE={1};\"\n",
    "    \"HOSTNAME={2};\"\n",
    "    \"PORT={3};\"\n",
    "    \"PROTOCOL={4};\"\n",
    "    \"UID={5};\"\n",
    "    \"PWD={5};\").format(dsn_driver, dsn_database, dsn_hostname, dsn_port, dsn_protocol, dsn_uid, dsn_pwd)\n",
    "\n",
    "try:\n",
    "    conn = ibm_db.connect(dsn, \"\", \"\")\n",
    "    print(\"Connected to database: \", dsn_database, \"as user: \", dsn_uid, \"on host: \", dsn_hostname)\n",
    "    \n",
    "except:\n",
    "    print(\"Unable to connect: \", ibm_db.conn_errormsg())\n",
    "    "
   ]
  },
  {
   "cell_type": "markdown",
   "metadata": {},
   "source": [
    "## Step 4: Create a table in the database\n",
    "\n",
    "In this step we will create a table in the database with following details:\n",
    "\n",
    "|  COLUMN NAME  |  DATA TYPE  |  NULLABLE  |\n",
    "|:-------------:|:-----------:|:----------:|\n",
    "|EMP_ID         |INTEGER      |N           |\n",
    "|FNAME          |VARCHAR      |Y           |\n",
    "|LNAME          |VARCHAR      |Y           |\n",
    "|D_O_B          |DATE         |Y           |\n",
    "|GENDER         |CHARACTER    |Y           |\n",
    "|SALARY         |INTEGER      |Y           |\n",
    "|CITY           |VARCHAR      |Y           |\n",
    "|CCODE          |CHARACTER    |Y           |\n",
    "\n",
    "**NOTE:** Here `EMP_ID` is the primary key."
   ]
  },
  {
   "cell_type": "code",
   "execution_count": null,
   "metadata": {},
   "outputs": [],
   "source": [
    "#Lets first drop the table EMPLOYEES in case it exists from a previous attempt\n",
    "dropQuery = \"drop table EMPLOYEES\"\n",
    "\n",
    "#Now execute the drop statement\n",
    "dropStmt = ibm_db.exec_immediate(conn, dropQuery)\n"
   ]
  },
  {
   "cell_type": "markdown",
   "metadata": {},
   "source": [
    "## Dont worry if you get this error:\n",
    "If you see an exception/error similar to the following, indicating that EMPLOYEES is an undefined name, that's okay. It just implies that the EMPLOYEES table does not exist in the table - which would be the case if you had not created it previously.\n",
    "\n",
    "Exception: [IBM][CLI Driver][DB2/LINUXX8664] SQL0204N  \"ABC12345.EMPLOYEES\" is an undefined name.  SQLSTATE=42704 SQLCODE=-204"
   ]
  },
  {
   "cell_type": "code",
   "execution_count": null,
   "metadata": {},
   "outputs": [],
   "source": [
    "#Construct the Create Table DDL statement\n",
    "\n",
    "createQuery = \"create table EMPLOYEES (EMP_ID Integer Primary Key Not Null, FNAME varchar(20), LNAME varchar(20), D_O_B date, Gender character(1), Salary integer, City varchar(20), CCode character (2))\"\n",
    "\n",
    "#Now fill in the name of the method and execute the statement\n",
    "\n",
    "createStmt = ibm_db.exec_immediate(conn, createQuery)"
   ]
  },
  {
   "cell_type": "markdown",
   "metadata": {},
   "source": [
    "## Step 5: Insert data into the table\n",
    "\n",
    "In this step we will insert some rows of data into the table. \n",
    "\n",
    "|  EMP_ID       |  FNAME      |  LNAME     |  D_O_B    |  Gender   |  Salary   |  City     |  CCode    |\n",
    "|:-------------:|:-----------:|:----------:|:---------:|:---------:|:---------:|:---------:|:---------:|\n",
    "|01             |Chris        |Evans       |1981-06-13 | M         | 100000    | Boston    | US        |\n",
    "|02             |Robert       |Downey Jr   |1965-04-04 | M         | 150000    | Manhattan | US        |\n",
    "|03             |Scarlett     |Johansson   |1984-11-12 | F         | 110000    | Manhattan | US        |\n",
    "|04             |Chris        |Hemsworth   |1983-08-11 | M         | 90000     | Melbourne | AU        |\n",
    "\n",
    "\n",
    "We will be using a single query to insert all rows of data."
   ]
  },
  {
   "cell_type": "code",
   "execution_count": null,
   "metadata": {},
   "outputs": [],
   "source": [
    "#Construct the query\n",
    "\n",
    "insertQuery = \"insert into EMPLOYEES values (01, 'Chris', 'Evans', '1981-06-13', 'M', 100000, 'Boston', 'US'), (02, 'Robert', 'Downey Jr', '1965-04-04', 'M', 150000, 'Manhattan', 'US'), (03, 'Scarlett', 'Johansson', '1984-11-22', 'F', 110000, 'Manhattan', 'US'), (04, 'Chris', 'Hemsworth', '1983-08-11', 'M', 90000, 'Melbourne', 'AU')\"\n",
    "\n",
    "#execute the statement\n",
    "\n",
    "insertStmt = ibm_db.exec_immediate(conn, insertQuery)"
   ]
  },
  {
   "cell_type": "markdown",
   "metadata": {},
   "source": [
    "## Step 6: Query data in the table\n",
    "\n",
    "In this step we will retrieve data we inserted into the EMPLOYEE table. "
   ]
  },
  {
   "cell_type": "code",
   "execution_count": null,
   "metadata": {},
   "outputs": [],
   "source": [
    "#Construct the query that retrieves all rows from the EMPLOYEES table\n",
    "selectQuery = \"select * from EMPLOYEES\"\n",
    "\n",
    "#Execute the statement\n",
    "selectStmt = ibm_db.exec_immediate(conn, selectQuery)\n",
    "\n",
    "#Fetch the Dictionary (for the first row only)\n",
    "ibm_db.fetch_both(selectStmt)"
   ]
  },
  {
   "cell_type": "code",
   "execution_count": null,
   "metadata": {},
   "outputs": [],
   "source": [
    "#Fetch the rest of the rows and print the EMP_ID and FNAME for those rows\n",
    "\n",
    "while ibm_db.fetch_row(selectStmt) != False:\n",
    "    print(\"EMP_ID: \", ibm_db.result(selectStmt, 0), \"FNAME: \", ibm_db.result(selectStmt, \"FNAME\")) "
   ]
  },
  {
   "cell_type": "markdown",
   "metadata": {},
   "source": [
    "Now, we write and execute an update statement that changes the Scarlett's CITY to Los Angeles."
   ]
  },
  {
   "cell_type": "code",
   "execution_count": null,
   "metadata": {},
   "outputs": [],
   "source": [
    "#Write and execute an update statement \n",
    "#change Scarlett's city to Los Angeles\n",
    "\n",
    "updateQuery = \"update EMPLOYEES set CITY = 'Los Angeles' where FNAME = 'Scarlett'\"\n",
    "\n",
    "updateStmt = ibm_db.exec_immediate(conn, updateQuery) "
   ]
  },
  {
   "cell_type": "markdown",
   "metadata": {},
   "source": [
    "## Step 7: Retrieve data into Pandas \n",
    "\n",
    "In this step we will retrieve the contents of the EMPLOYEE table into a Pandas dataframe."
   ]
  },
  {
   "cell_type": "code",
   "execution_count": null,
   "metadata": {},
   "outputs": [],
   "source": [
    "import pandas\n",
    "import ibm_db_dbi"
   ]
  },
  {
   "cell_type": "code",
   "execution_count": null,
   "metadata": {},
   "outputs": [],
   "source": [
    "#connection for pandas\n",
    "pconn = ibm_db_dbi.Connection(conn)"
   ]
  },
  {
   "cell_type": "code",
   "execution_count": null,
   "metadata": {},
   "outputs": [],
   "source": [
    "#query statement to retrieve all rows in EMPLOYEES table\n",
    "selectQuery = \"select * from EMPLOYEES\"\n",
    "\n",
    "#retrieve the query results into a pandas dataframe\n",
    "pdf = pandas.read_sql(selectQuery, pconn)\n",
    "\n",
    "#print just the LNAME for first row in the pandas data frame\n",
    "pdf.LNAME[0] "
   ]
  },
  {
   "cell_type": "code",
   "execution_count": null,
   "metadata": {},
   "outputs": [],
   "source": [
    "#print the entire data frame\n",
    "\n",
    "pdf "
   ]
  },
  {
   "cell_type": "markdown",
   "metadata": {},
   "source": [
    "Once the data is in a Pandas dataframe, you can do the typical pandas operations on it. \n",
    "\n",
    "For example, you can use the shape method to see how many rows and columns are in the dataframe"
   ]
  },
  {
   "cell_type": "code",
   "execution_count": null,
   "metadata": {},
   "outputs": [],
   "source": [
    "pdf.shape"
   ]
  },
  {
   "cell_type": "markdown",
   "metadata": {},
   "source": [
    "## Task 8: Close the Connection\n",
    "We free all resources by closing the connection.  \n",
    "**NOTE:** Remember that it is always important to close connections so that we can avoid unused connections taking up resources.\n"
   ]
  },
  {
   "cell_type": "code",
   "execution_count": null,
   "metadata": {},
   "outputs": [],
   "source": [
    "ibm_db.close(conn)"
   ]
  },
  {
   "cell_type": "markdown",
   "metadata": {},
   "source": [
    "## <U>Summary</U>\n",
    "\n",
    "In this tutorial we established a connection to a database instance of DB2 Warehouse on Cloud from a Python notebook using ibm_db API. Then created a table and inserted a few rows of data into it. Then queried the data. We also retrieved the data into a pandas dataframe.  \n",
    "\n",
    "## THANK YOU!"
   ]
  }
 ],
 "metadata": {
  "kernelspec": {
   "display_name": "Python 3.6",
   "language": "python",
   "name": "python3"
  },
  "language_info": {
   "codemirror_mode": {
    "name": "ipython",
    "version": 3
   },
   "file_extension": ".py",
   "mimetype": "text/x-python",
   "name": "python",
   "nbconvert_exporter": "python",
   "pygments_lexer": "ipython3",
   "version": "3.6.9"
  }
 },
 "nbformat": 4,
 "nbformat_minor": 4
}
